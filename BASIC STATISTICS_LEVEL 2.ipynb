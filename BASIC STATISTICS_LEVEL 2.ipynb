{
 "cells": [
  {
   "cell_type": "markdown",
   "id": "69174fda",
   "metadata": {},
   "source": [
    "# SET 1"
   ]
  },
  {
   "cell_type": "markdown",
   "id": "46f1c224",
   "metadata": {},
   "source": [
    "# 1. Look at the data given below. Plot the data, find the outliers and find out μ,σ,σ^2"
   ]
  },
  {
   "cell_type": "code",
   "execution_count": 3,
   "id": "e7c70b20",
   "metadata": {
    "ExecuteTime": {
     "end_time": "2022-12-17T15:35:57.753003Z",
     "start_time": "2022-12-17T15:35:57.745589Z"
    }
   },
   "outputs": [],
   "source": [
    "import pandas as pd\n",
    "import numpy as np\n",
    "import matplotlib.pyplot as plt\n",
    "import seaborn as sns\n",
    "from scipy.stats import norm"
   ]
  },
  {
   "cell_type": "code",
   "execution_count": 4,
   "id": "115c9365",
   "metadata": {
    "ExecuteTime": {
     "end_time": "2022-12-17T15:35:59.020886Z",
     "start_time": "2022-12-17T15:35:58.973327Z"
    }
   },
   "outputs": [
    {
     "data": {
      "text/html": [
       "<div>\n",
       "<style scoped>\n",
       "    .dataframe tbody tr th:only-of-type {\n",
       "        vertical-align: middle;\n",
       "    }\n",
       "\n",
       "    .dataframe tbody tr th {\n",
       "        vertical-align: top;\n",
       "    }\n",
       "\n",
       "    .dataframe thead th {\n",
       "        text-align: right;\n",
       "    }\n",
       "</style>\n",
       "<table border=\"1\" class=\"dataframe\">\n",
       "  <thead>\n",
       "    <tr style=\"text-align: right;\">\n",
       "      <th></th>\n",
       "      <th>Name of company</th>\n",
       "      <th>Measure X</th>\n",
       "    </tr>\n",
       "  </thead>\n",
       "  <tbody>\n",
       "    <tr>\n",
       "      <th>0</th>\n",
       "      <td>Allied Signal</td>\n",
       "      <td>24.23%</td>\n",
       "    </tr>\n",
       "    <tr>\n",
       "      <th>1</th>\n",
       "      <td>Bankers Trust</td>\n",
       "      <td>25.53%</td>\n",
       "    </tr>\n",
       "    <tr>\n",
       "      <th>2</th>\n",
       "      <td>General Mills</td>\n",
       "      <td>25.41%</td>\n",
       "    </tr>\n",
       "    <tr>\n",
       "      <th>3</th>\n",
       "      <td>ITT Industries</td>\n",
       "      <td>24.14%</td>\n",
       "    </tr>\n",
       "    <tr>\n",
       "      <th>4</th>\n",
       "      <td>J.P.Morgan &amp; Co.</td>\n",
       "      <td>29.62%</td>\n",
       "    </tr>\n",
       "    <tr>\n",
       "      <th>5</th>\n",
       "      <td>Lehman Brothers</td>\n",
       "      <td>28.25%</td>\n",
       "    </tr>\n",
       "    <tr>\n",
       "      <th>6</th>\n",
       "      <td>Marriott</td>\n",
       "      <td>25.81%</td>\n",
       "    </tr>\n",
       "    <tr>\n",
       "      <th>7</th>\n",
       "      <td>MCI</td>\n",
       "      <td>24.39%</td>\n",
       "    </tr>\n",
       "    <tr>\n",
       "      <th>8</th>\n",
       "      <td>Merrill Lynch</td>\n",
       "      <td>40.26%</td>\n",
       "    </tr>\n",
       "    <tr>\n",
       "      <th>9</th>\n",
       "      <td>Microsoft</td>\n",
       "      <td>32.95%</td>\n",
       "    </tr>\n",
       "    <tr>\n",
       "      <th>10</th>\n",
       "      <td>Morgan Stanley</td>\n",
       "      <td>91.36%</td>\n",
       "    </tr>\n",
       "    <tr>\n",
       "      <th>11</th>\n",
       "      <td>Sun Microsystems</td>\n",
       "      <td>25.99%</td>\n",
       "    </tr>\n",
       "    <tr>\n",
       "      <th>12</th>\n",
       "      <td>Travelers</td>\n",
       "      <td>39.42%</td>\n",
       "    </tr>\n",
       "    <tr>\n",
       "      <th>13</th>\n",
       "      <td>US Airways</td>\n",
       "      <td>26.71%</td>\n",
       "    </tr>\n",
       "    <tr>\n",
       "      <th>14</th>\n",
       "      <td>Warner-Lambert</td>\n",
       "      <td>35.00%</td>\n",
       "    </tr>\n",
       "  </tbody>\n",
       "</table>\n",
       "</div>"
      ],
      "text/plain": [
       "     Name of company Measure X\n",
       "0      Allied Signal    24.23%\n",
       "1      Bankers Trust    25.53%\n",
       "2      General Mills    25.41%\n",
       "3     ITT Industries    24.14%\n",
       "4   J.P.Morgan & Co.    29.62%\n",
       "5    Lehman Brothers    28.25%\n",
       "6           Marriott    25.81%\n",
       "7                MCI    24.39%\n",
       "8      Merrill Lynch    40.26%\n",
       "9          Microsoft    32.95%\n",
       "10    Morgan Stanley    91.36%\n",
       "11  Sun Microsystems    25.99%\n",
       "12         Travelers    39.42%\n",
       "13        US Airways    26.71%\n",
       "14    Warner-Lambert    35.00%"
      ]
     },
     "execution_count": 4,
     "metadata": {},
     "output_type": "execute_result"
    }
   ],
   "source": [
    "set_1=pd.read_csv(\"set_1.csv\")\n",
    "set_1"
   ]
  },
  {
   "cell_type": "code",
   "execution_count": 5,
   "id": "fcd8d3c3",
   "metadata": {
    "ExecuteTime": {
     "end_time": "2022-12-17T15:36:04.021095Z",
     "start_time": "2022-12-17T15:36:03.992402Z"
    }
   },
   "outputs": [
    {
     "data": {
      "text/html": [
       "<div>\n",
       "<style scoped>\n",
       "    .dataframe tbody tr th:only-of-type {\n",
       "        vertical-align: middle;\n",
       "    }\n",
       "\n",
       "    .dataframe tbody tr th {\n",
       "        vertical-align: top;\n",
       "    }\n",
       "\n",
       "    .dataframe thead th {\n",
       "        text-align: right;\n",
       "    }\n",
       "</style>\n",
       "<table border=\"1\" class=\"dataframe\">\n",
       "  <thead>\n",
       "    <tr style=\"text-align: right;\">\n",
       "      <th></th>\n",
       "      <th>Name_of_company</th>\n",
       "      <th>Measure_X</th>\n",
       "    </tr>\n",
       "  </thead>\n",
       "  <tbody>\n",
       "    <tr>\n",
       "      <th>0</th>\n",
       "      <td>Allied Signal</td>\n",
       "      <td>24.23%</td>\n",
       "    </tr>\n",
       "    <tr>\n",
       "      <th>1</th>\n",
       "      <td>Bankers Trust</td>\n",
       "      <td>25.53%</td>\n",
       "    </tr>\n",
       "  </tbody>\n",
       "</table>\n",
       "</div>"
      ],
      "text/plain": [
       "  Name_of_company Measure_X\n",
       "0   Allied Signal    24.23%\n",
       "1   Bankers Trust    25.53%"
      ]
     },
     "execution_count": 5,
     "metadata": {},
     "output_type": "execute_result"
    }
   ],
   "source": [
    "set_1=set_1.rename({'Name of company': 'Name_of_company','Measure X':'Measure_X'}, axis=1)\n",
    "set_1.head(2)"
   ]
  },
  {
   "cell_type": "code",
   "execution_count": 6,
   "id": "43c5bec9",
   "metadata": {
    "ExecuteTime": {
     "end_time": "2022-12-17T15:36:04.981317Z",
     "start_time": "2022-12-17T15:36:04.696137Z"
    }
   },
   "outputs": [
    {
     "data": {
      "text/plain": [
       "<AxesSubplot:ylabel='Measure_X'>"
      ]
     },
     "execution_count": 6,
     "metadata": {},
     "output_type": "execute_result"
    },
    {
     "data": {
      "image/png": "[encoded data removed]",
      "text/plain": [
       "<Figure size 432x432 with 1 Axes>"
      ]
     },
     "metadata": {},
     "output_type": "display_data"
    }
   ],
   "source": [
    "plt.figure(figsize=(6,6))\n",
    "set_1[\"Measure_X\"].value_counts().plot(kind=\"pie\",autopct=\"%1.2f%%\")"
   ]
  },
  {
   "cell_type": "code",
   "execution_count": 14,
   "id": "36929018",
   "metadata": {
    "ExecuteTime": {
     "end_time": "2022-12-17T15:37:42.025551Z",
     "start_time": "2022-12-17T15:37:42.001026Z"
    }
   },
   "outputs": [
    {
     "data": {
      "text/plain": [
       "count         15\n",
       "unique        15\n",
       "top       24.23%\n",
       "freq           1\n",
       "Name: Measure_X, dtype: object"
      ]
     },
     "execution_count": 14,
     "metadata": {},
     "output_type": "execute_result"
    }
   ],
   "source": [
    "set_1[\"Measure_X\"].describe()"
   ]
  },
  {
   "cell_type": "code",
   "execution_count": 7,
   "id": "7681590b",
   "metadata": {
    "ExecuteTime": {
     "end_time": "2022-12-17T15:36:05.532262Z",
     "start_time": "2022-12-17T15:36:05.519842Z"
    }
   },
   "outputs": [],
   "source": [
    "data=[24.23,25.53,25.41,24.14,29.62,28.25,25.81,24.39,40.26,32.95,91.36,25.99,39.42,26.71,35.00]"
   ]
  },
  {
   "cell_type": "code",
   "execution_count": 8,
   "id": "1d7347f5",
   "metadata": {
    "ExecuteTime": {
     "end_time": "2022-12-17T15:36:06.102155Z",
     "start_time": "2022-12-17T15:36:05.973474Z"
    }
   },
   "outputs": [
    {
     "name": "stderr",
     "output_type": "stream",
     "text": [
      "C:\\Users\\kulde\\anaconda3\\lib\\site-packages\\seaborn\\_decorators.py:36: FutureWarning: Pass the following variable as a keyword arg: x. From version 0.12, the only valid positional argument will be `data`, and passing other arguments without an explicit keyword will result in an error or misinterpretation.\n",
      "  warnings.warn(\n"
     ]
    },
    {
     "data": {
      "text/plain": [
       "<AxesSubplot:>"
      ]
     },
     "execution_count": 8,
     "metadata": {},
     "output_type": "execute_result"
    },
    {
     "data": {
      "image/png": "[encoded data removed]",
      "text/plain": [
       "<Figure size 432x288 with 1 Axes>"
      ]
     },
     "metadata": {
      "needs_background": "light"
     },
     "output_type": "display_data"
    }
   ],
   "source": [
    "sns.boxplot(data)"
   ]
  },
  {
   "cell_type": "code",
   "execution_count": 9,
   "id": "9cd53cfb",
   "metadata": {
    "ExecuteTime": {
     "end_time": "2022-12-17T15:36:07.380923Z",
     "start_time": "2022-12-17T15:36:07.358358Z"
    }
   },
   "outputs": [
    {
     "data": {
      "text/plain": [
       "33.27133333333333"
      ]
     },
     "execution_count": 9,
     "metadata": {},
     "output_type": "execute_result"
    }
   ],
   "source": [
    "np.mean(data)"
   ]
  },
  {
   "cell_type": "code",
   "execution_count": 10,
   "id": "09780d98",
   "metadata": {
    "ExecuteTime": {
     "end_time": "2022-12-17T15:36:08.049972Z",
     "start_time": "2022-12-17T15:36:08.025739Z"
    }
   },
   "outputs": [
    {
     "data": {
      "text/plain": [
       "16.370812590976932"
      ]
     },
     "execution_count": 10,
     "metadata": {},
     "output_type": "execute_result"
    }
   ],
   "source": [
    "np.std(data)"
   ]
  },
  {
   "cell_type": "code",
   "execution_count": 11,
   "id": "ad533d10",
   "metadata": {
    "ExecuteTime": {
     "end_time": "2022-12-17T15:36:08.660045Z",
     "start_time": "2022-12-17T15:36:08.644351Z"
    }
   },
   "outputs": [
    {
     "data": {
      "text/plain": [
       "268.00350488888887"
      ]
     },
     "execution_count": 11,
     "metadata": {},
     "output_type": "execute_result"
    }
   ],
   "source": [
    "np.var(data)"
   ]
  },
  {
   "cell_type": "markdown",
   "id": "3ca7e5d0",
   "metadata": {},
   "source": [
    "# 5. Returns on a certain business venture, to the nearest $1,000, are known to follow the following probability distribution"
   ]
  },
  {
   "cell_type": "markdown",
   "id": "60c5498d",
   "metadata": {},
   "source": [
    "(i) What is the most likely monetary outcome of the business venture? (ii) Is the venture likely to be successful? Explain (iii) What is the long-term average earning of business ventures of this kind? Explain (iv) What is the good measure of the risk involved in a venture of this kind? Compute this measure\n",
    "\n"
   ]
  },
  {
   "cell_type": "code",
   "execution_count": 16,
   "id": "41da4323",
   "metadata": {
    "ExecuteTime": {
     "end_time": "2022-12-17T15:39:23.584259Z",
     "start_time": "2022-12-17T15:39:22.891908Z"
    }
   },
   "outputs": [
    {
     "name": "stdout",
     "output_type": "stream",
     "text": [
      "      X  density\n",
      "0 -2000      0.1\n",
      "1 -1000      0.1\n",
      "2     0      0.2\n",
      "3  1000      0.2\n",
      "4  2000      0.3\n",
      "5  3000      0.1\n"
     ]
    },
    {
     "name": "stderr",
     "output_type": "stream",
     "text": [
      "C:\\Users\\kulde\\anaconda3\\lib\\site-packages\\seaborn\\distributions.py:2619: FutureWarning: `distplot` is a deprecated function and will be removed in a future version. Please adapt your code to use either `displot` (a figure-level function with similar flexibility) or `histplot` (an axes-level function for histograms).\n",
      "  warnings.warn(msg, FutureWarning)\n"
     ]
    },
    {
     "data": {
      "image/png": "[encoded data removed]",
      "text/plain": [
       "<Figure size 360x360 with 1 Axes>"
      ]
     },
     "metadata": {
      "needs_background": "light"
     },
     "output_type": "display_data"
    }
   ],
   "source": [
    "data = {'X':[-2000,-1000,0,1000,2000,3000],\n",
    "       'density':[0.1,0.1,0.2,0.2,0.3,0.1]}\n",
    "data_df=pd.DataFrame(data)\n",
    "print(data_df)\n",
    "fig = plt.figure(figsize =(5,5)) \n",
    "sns.distplot(data_df)#(data_df['X'],data_df['density'])\n",
    "plt.show()"
   ]
  },
  {
   "cell_type": "markdown",
   "id": "e644cb7a",
   "metadata": {},
   "source": [
    "# SET 2"
   ]
  },
  {
   "cell_type": "markdown",
   "id": "8959c0bd",
   "metadata": {},
   "source": [
    "# 1. The time required for servicing transmissions is normally distributed with Mean= 45 minutes and STD = 8 minutes. The service manager plans to have work begin on the transmission of a customer’s car 10 minutes after the car is dropped off and the customer is told that the car will be ready within 1 hour from drop-off. What is the probability that the service manager cannot meet his commitment?"
   ]
  },
  {
   "cell_type": "code",
   "execution_count": 17,
   "id": "75259d2a",
   "metadata": {
    "ExecuteTime": {
     "end_time": "2022-12-17T15:40:58.165030Z",
     "start_time": "2022-12-17T15:40:58.158355Z"
    }
   },
   "outputs": [
    {
     "name": "stdout",
     "output_type": "stream",
     "text": [
      "Probability that car service can be done in 1 hour is  0.7340144709512995\n"
     ]
    }
   ],
   "source": [
    "X50= norm.cdf(50,45,8)\n",
    "print('Probability that car service can be done in 1 hour is ',X50)"
   ]
  },
  {
   "cell_type": "code",
   "execution_count": 18,
   "id": "c3206eb3",
   "metadata": {
    "ExecuteTime": {
     "end_time": "2022-12-17T15:41:05.315324Z",
     "start_time": "2022-12-17T15:41:05.296603Z"
    }
   },
   "outputs": [
    {
     "name": "stdout",
     "output_type": "stream",
     "text": [
      "Probability that car service cannot be done in 1 hour is  0.26598552904870054\n"
     ]
    }
   ],
   "source": [
    "Pnot= 1-X50\n",
    "print('Probability that car service cannot be done in 1 hour is ',Pnot)"
   ]
  },
  {
   "cell_type": "markdown",
   "id": "062551de",
   "metadata": {},
   "source": [
    "# 2. The current age (in years) of 400 clerical employees at an insurance claims processing center is normally distributed with mean Mean = 38 and Standard deviation Mean=6. For each statement below, please specify True/False. If false, briefly explain why."
   ]
  },
  {
   "cell_type": "code",
   "execution_count": 19,
   "id": "ee490b60",
   "metadata": {
    "ExecuteTime": {
     "end_time": "2022-12-17T15:41:30.392248Z",
     "start_time": "2022-12-17T15:41:30.373703Z"
    }
   },
   "outputs": [
    {
     "name": "stdout",
     "output_type": "stream",
     "text": [
      "0.8413447460685429\n",
      "Employees Greater than 44 is  0.15865525393145707\n",
      "0.09121121972586788\n"
     ]
    }
   ],
   "source": [
    "X44 = norm.cdf(44,38,6)\n",
    "print(X44)\n",
    "print('Employees Greater than 44 is ',1-X44)\n",
    "X30 = norm.cdf(30,38,6)\n",
    "print(X30)"
   ]
  },
  {
   "cell_type": "code",
   "execution_count": 20,
   "id": "2a028e8a",
   "metadata": {
    "ExecuteTime": {
     "end_time": "2022-12-17T15:41:43.854238Z",
     "start_time": "2022-12-17T15:41:43.840532Z"
    }
   },
   "outputs": [
    {
     "name": "stdout",
     "output_type": "stream",
     "text": [
      "For Population Size 400 Employees Under age 30 is  36.484487890347154\n"
     ]
    }
   ],
   "source": [
    "print('For Population Size 400 Employees Under age 30 is ', 400*X30)"
   ]
  },
  {
   "cell_type": "markdown",
   "id": "6681d809",
   "metadata": {},
   "source": [
    "# 3. Let X ~ N(100, 20^2). Find two values, a and b, symmetric about the mean, such that the probability of the random variable taking a value between them is 0.99"
   ]
  },
  {
   "cell_type": "code",
   "execution_count": 21,
   "id": "e2811825",
   "metadata": {
    "ExecuteTime": {
     "end_time": "2022-12-17T15:42:02.539030Z",
     "start_time": "2022-12-17T15:42:02.525224Z"
    }
   },
   "outputs": [
    {
     "name": "stdout",
     "output_type": "stream",
     "text": [
      "-2.575829303548901 2.5758293035489004\n"
     ]
    }
   ],
   "source": [
    "b_Zscore=norm.ppf(0.995)\n",
    "a_Zscore= norm.ppf(0.005)\n",
    "print(a_Zscore,b_Zscore)\n",
    "si=20\n",
    "mu=100"
   ]
  },
  {
   "cell_type": "code",
   "execution_count": 22,
   "id": "ed751fb0",
   "metadata": {
    "ExecuteTime": {
     "end_time": "2022-12-17T15:42:11.618729Z",
     "start_time": "2022-12-17T15:42:11.608730Z"
    }
   },
   "outputs": [
    {
     "name": "stdout",
     "output_type": "stream",
     "text": [
      "a = 48.483413929021985   b =  151.516586070978\n"
     ]
    }
   ],
   "source": [
    "# Calculate X=>(Zscore*si)+mu\n",
    "Xa=(a_Zscore*si)+mu\n",
    "Xb=(b_Zscore*si)+mu\n",
    "print('a =',Xa,'  b = ',Xb)\n",
    "\n",
    "x=(a_Zscore,b_Zscore,0.001)\n",
    "#x_all=np.arange(-10,10,0.001)\n",
    "y=norm.cdf(x,0,1)\n",
    "#y2=norm.pdf(x_all,0,1)"
   ]
  },
  {
   "cell_type": "markdown",
   "id": "993af870",
   "metadata": {},
   "source": [
    "# 5. Consider a company that has two different divisions. The annual profits from the two divisions are independent and have distributions Profit1 ~ N(5, 3) and Profit2 ~ N(7, 4) respectively. Both the profits are in Million. Answer the following questions about the total profit of the company in Rupees. Assume that 1 Dolllor = Rs. 45"
   ]
  },
  {
   "cell_type": "code",
   "execution_count": 23,
   "id": "59c85f47",
   "metadata": {
    "ExecuteTime": {
     "end_time": "2022-12-17T15:42:31.571578Z",
     "start_time": "2022-12-17T15:42:31.555711Z"
    }
   },
   "outputs": [],
   "source": [
    "import pandas as pd\n",
    "import numpy as np\n",
    "import matplotlib.pyplot as plt\n",
    "import scipy.stats as stats\n",
    "from scipy.stats import kurtosis\n",
    "from scipy.stats import skew\n",
    "import seaborn as sns\n",
    "%matplotlib inline"
   ]
  },
  {
   "cell_type": "code",
   "execution_count": 26,
   "id": "265814f0",
   "metadata": {
    "ExecuteTime": {
     "end_time": "2022-12-17T15:43:11.115134Z",
     "start_time": "2022-12-17T15:43:11.090979Z"
    }
   },
   "outputs": [
    {
     "name": "stdout",
     "output_type": "stream",
     "text": [
      "Standard Normnal Distribution for Profit 1\n",
      "\n"
     ]
    },
    {
     "data": {
      "text/plain": [
       "0.03408830818799267"
      ]
     },
     "execution_count": 26,
     "metadata": {},
     "output_type": "execute_result"
    }
   ],
   "source": [
    "print('Standard Normnal Distribution for Profit 1\\n')\n",
    "stats.norm(5, 3).pdf(0.05)"
   ]
  },
  {
   "cell_type": "code",
   "execution_count": 27,
   "id": "e83e9dd2",
   "metadata": {
    "ExecuteTime": {
     "end_time": "2022-12-17T15:43:24.513453Z",
     "start_time": "2022-12-17T15:43:24.493906Z"
    }
   },
   "outputs": [
    {
     "name": "stdout",
     "output_type": "stream",
     "text": [
      "Standard Normnal Distribution for Profit 2\n",
      "\n"
     ]
    },
    {
     "data": {
      "text/plain": [
       "0.02204463495650936"
      ]
     },
     "execution_count": 27,
     "metadata": {},
     "output_type": "execute_result"
    }
   ],
   "source": [
    "print('Standard Normnal Distribution for Profit 2\\n')\n",
    "stats.norm(7, 4).pdf(0.05)"
   ]
  },
  {
   "cell_type": "code",
   "execution_count": null,
   "id": "4b63f4b5",
   "metadata": {},
   "outputs": [],
   "source": []
  }
 ],
 "metadata": {
  "kernelspec": {
   "display_name": "Python 3 (ipykernel)",
   "language": "python",
   "name": "python3"
  },
  "language_info": {
   "codemirror_mode": {
    "name": "ipython",
    "version": 3
   },
   "file_extension": ".py",
   "mimetype": "text/x-python",
   "name": "python",
   "nbconvert_exporter": "python",
   "pygments_lexer": "ipython3",
   "version": "3.9.12"
  }
 },
 "nbformat": 4,
 "nbformat_minor": 5
}
